{
  "nbformat": 4,
  "nbformat_minor": 0,
  "metadata": {
    "colab": {
      "name": "KerasDatasets.ipynb",
      "provenance": []
    },
    "kernelspec": {
      "name": "python3",
      "display_name": "Python 3"
    },
    "language_info": {
      "name": "python"
    }
  },
  "cells": [
    {
      "cell_type": "markdown",
      "source": [
        "## KERAS DATASETS\n",
        "Entorno de base de datos que nos suministra keras, para cargar bases de datos de distintas tipologias desde el entorno de keras, estas bases estan muy normalizadas y en un sistema muy ideal, pero nos ayudan a entrenar modelos de redes neuronales "
      ],
      "metadata": {
        "id": "645GAyyAT-1C"
      }
    },
    {
      "cell_type": "code",
      "execution_count": 2,
      "metadata": {
        "id": "G76jEGmiT1R2"
      },
      "outputs": [],
      "source": [
        "### KERAS DATASETS\n",
        "### PERMITE CARGAR BASES DE DATOS PARA PROCESAMIENTO DE IMAGENES, TEXTO ETC\n",
        "\n",
        "import tensorflow as tf\n",
        "import numpy as np\n",
        "%matplotlib inline\n",
        "import matplotlib.pyplot as plt "
      ]
    },
    {
      "cell_type": "code",
      "source": [
        "#### AHORA IMPORTAMOS LA BASE DE DATOS  DE CIFAR100\n",
        "from tensorflow.keras.datasets import cifar100"
      ],
      "metadata": {
        "id": "EL638aOwWAbU"
      },
      "execution_count": 6,
      "outputs": []
    },
    {
      "cell_type": "code",
      "source": [
        "### EL METODO LOAD DATA NOS PERMITE CARGAR CUALQUIER BASE DE DATOS DE KERAS\n",
        "(x_train,y_train),(x_test,y_test)=cifar100.load_data(label_mode=\"fine\") ## CARGAMOS LA CATEGORIA O LA CLASE EN LA QUE QUEREMOS TRABAJAR\n",
        "## PARA MAS INFORMACIÓN MIRAR LA DOCUMENTACIÓN"
      ],
      "metadata": {
        "colab": {
          "base_uri": "https://localhost:8080/"
        },
        "id": "9euqfrr5Xe9i",
        "outputId": "9b267eba-a376-4521-ae3a-d1dca2b86bc6"
      },
      "execution_count": 7,
      "outputs": [
        {
          "output_type": "stream",
          "name": "stdout",
          "text": [
            "Downloading data from https://www.cs.toronto.edu/~kriz/cifar-100-python.tar.gz\n",
            "169009152/169001437 [==============================] - 2s 0us/step\n",
            "169017344/169001437 [==============================] - 2s 0us/step\n"
          ]
        }
      ]
    },
    {
      "cell_type": "code",
      "source": [
        "### EXAMINAMOS LOS DATOS \n",
        "print(x_train.shape) ### 50000 IMAGENES DE 32*32 A COLOR\n",
        "print(y_train.shape) ### UN SOLO LABEL ASOCIADO A CADA IMAGEN"
      ],
      "metadata": {
        "colab": {
          "base_uri": "https://localhost:8080/"
        },
        "id": "J5y0-xXzY5Ix",
        "outputId": "1dbe4488-bf7b-4547-e646-22f3f3f34792"
      },
      "execution_count": 8,
      "outputs": [
        {
          "output_type": "stream",
          "name": "stdout",
          "text": [
            "(50000, 32, 32, 3)\n",
            "(50000, 1)\n"
          ]
        }
      ]
    },
    {
      "cell_type": "code",
      "source": [
        "plt.imshow(x_train[0])\n",
        "print(y_train[0])"
      ],
      "metadata": {
        "colab": {
          "base_uri": "https://localhost:8080/",
          "height": 283
        },
        "id": "8JRA0PwLZobo",
        "outputId": "ff0a5bdc-256d-4724-d36c-425fe98ae00b"
      },
      "execution_count": 10,
      "outputs": [
        {
          "output_type": "stream",
          "name": "stdout",
          "text": [
            "[19]\n"
          ]
        },
        {
          "output_type": "display_data",
          "data": {
            "text/plain": [
              "<Figure size 432x288 with 1 Axes>"
            ],
            "image/png": "[encoded data removed]"
          },
          "metadata": {
            "needs_background": "light"
          }
        }
      ]
    },
    {
      "cell_type": "markdown",
      "source": [
        "ANALIZANDO EL LABEL YA PODEMOS OBSERVAR UN PROBLEMA, Y ES QUE NOS ESTAN ES ENTREGANDO UNA LLAVE, PERO REALMENTE LA CATEGORIA SE ENCUENTRA EN OTRO ARCHIVO"
      ],
      "metadata": {
        "id": "586-HJIOZ6vW"
      }
    },
    {
      "cell_type": "code",
      "source": [
        "### PARA CARGAR LOS LABELS SE HACE DESDE GCP\n",
        "!wget --no-check-certificate https://storage.googleapis.com/platzi-tf2/cifar100_labels.json -O /tmp/cifar100_labels.json ## CARGAMOS TODO ESPECIFICANDO LA DIRECCIÓN\n"
      ],
      "metadata": {
        "colab": {
          "base_uri": "https://localhost:8080/"
        },
        "id": "KXKtl2X2Ztbx",
        "outputId": "89d92bce-7b34-4f65-db77-7f96414f6232"
      },
      "execution_count": 11,
      "outputs": [
        {
          "output_type": "stream",
          "name": "stdout",
          "text": [
            "--2022-07-15 20:23:51--  https://storage.googleapis.com/platzi-tf2/cifar100_labels.json\n",
            "Resolving storage.googleapis.com (storage.googleapis.com)... 142.250.125.128, 142.250.136.128, 142.250.148.128, ...\n",
            "Connecting to storage.googleapis.com (storage.googleapis.com)|142.250.125.128|:443... connected.\n",
            "HTTP request sent, awaiting response... 200 OK\n",
            "Length: 1436 (1.4K) [application/json]\n",
            "Saving to: ‘/tmp/cifar100_labels.json’\n",
            "\n",
            "\r          /tmp/cifa   0%[                    ]       0  --.-KB/s               \r/tmp/cifar100_label 100%[===================>]   1.40K  --.-KB/s    in 0s      \n",
            "\n",
            "2022-07-15 20:23:51 (16.7 MB/s) - ‘/tmp/cifar100_labels.json’ saved [1436/1436]\n",
            "\n"
          ]
        }
      ]
    },
    {
      "cell_type": "code",
      "source": [
        "### AHORA DEBEMOS IMPORTAR LA LIBRERIA QUE NOS PERMITE TRABAJAR CON ARCHIVOS JSON\n",
        "\n",
        "import json\n",
        "\n",
        "with open(\"/tmp/cifar100_labels.json\") as fine_labels:\n",
        "  cifar100_labels= json.load(fine_labels)\n"
      ],
      "metadata": {
        "id": "b18eLUaaiKq9"
      },
      "execution_count": 12,
      "outputs": []
    },
    {
      "cell_type": "code",
      "source": [
        "### Y YA PARA PODER VISUALIZAR LO QUE CARGAMOS DEBEMOS CUADRAR LOS NOMBRES CORRECTOS\n",
        "plt.imshow(x_train[0])\n",
        "\n",
        "print(cifar100_labels[int(y_train[0])])\n",
        "\n"
      ],
      "metadata": {
        "colab": {
          "base_uri": "https://localhost:8080/",
          "height": 283
        },
        "id": "gXVSPgIcijlJ",
        "outputId": "7daf0787-5d5b-41e6-d8cf-f4fbe4ac03b3"
      },
      "execution_count": 14,
      "outputs": [
        {
          "output_type": "stream",
          "name": "stdout",
          "text": [
            "cattle\n"
          ]
        },
        {
          "output_type": "display_data",
          "data": {
            "text/plain": [
              "<Figure size 432x288 with 1 Axes>"
            ],
            "image/png": "[encoded data removed]"
          },
          "metadata": {
            "needs_background": "light"
          }
        }
      ]
    },
    {
      "cell_type": "code",
      "source": [
        "### CARGAR UNA BASE DE DATOS DIFERENTE Y VISUALIZAR UNA DE LAS IMAGENES"
      ],
      "metadata": {
        "id": "j-0hCxVajHBw"
      },
      "execution_count": null,
      "outputs": []
    }
  ]
}