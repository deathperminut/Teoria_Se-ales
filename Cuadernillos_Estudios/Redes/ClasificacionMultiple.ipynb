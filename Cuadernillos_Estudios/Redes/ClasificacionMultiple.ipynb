{
 "cells": [
  {
   "cell_type": "code",
   "execution_count": 1,
   "metadata": {},
   "outputs": [],
   "source": [
    "import numpy as np\n",
    "from keras import layers,models ## ESTRUCTURA BASICA PARA REDES\n",
    "from keras.datasets import reuters ## IMPORTAMOS LA INFORMACIÓN.\n",
    "import matplotlib.pyplot as plt"
   ]
  },
  {
   "cell_type": "code",
   "execution_count": 2,
   "metadata": {},
   "outputs": [],
   "source": [
    "(train_data,train_labels),(test_data,test_labels)=reuters.load_data(num_words=10000)"
   ]
  },
  {
   "cell_type": "code",
   "execution_count": 3,
   "metadata": {},
   "outputs": [
    {
     "name": "stdout",
     "output_type": "stream",
     "text": [
      "None\n",
      "None\n",
      "None\n",
      "said\n",
      "as\n",
      "a\n",
      "result\n",
      "of\n",
      "its\n",
      "december\n",
      "acquisition\n",
      "of\n",
      "space\n",
      "co\n",
      "it\n",
      "expects\n",
      "earnings\n",
      "per\n",
      "share\n",
      "in\n",
      "1987\n",
      "of\n",
      "1\n",
      "15\n",
      "to\n",
      "1\n",
      "30\n",
      "dlrs\n",
      "per\n",
      "share\n",
      "up\n",
      "from\n",
      "70\n",
      "cts\n",
      "in\n",
      "1986\n",
      "the\n",
      "company\n",
      "said\n",
      "pretax\n",
      "net\n",
      "should\n",
      "rise\n",
      "to\n",
      "nine\n",
      "to\n",
      "10\n",
      "mln\n",
      "dlrs\n",
      "from\n",
      "six\n",
      "mln\n",
      "dlrs\n",
      "in\n",
      "1986\n",
      "and\n",
      "rental\n",
      "operation\n",
      "revenues\n",
      "to\n",
      "19\n",
      "to\n",
      "22\n",
      "mln\n",
      "dlrs\n",
      "from\n",
      "12\n",
      "5\n",
      "mln\n",
      "dlrs\n",
      "it\n",
      "said\n",
      "cash\n",
      "flow\n",
      "per\n",
      "share\n",
      "this\n",
      "year\n",
      "should\n",
      "be\n",
      "2\n",
      "50\n",
      "to\n",
      "three\n",
      "dlrs\n",
      "reuter\n",
      "3\n"
     ]
    }
   ],
   "source": [
    "word_index=reuters.get_word_index()\n",
    "word_index=dict([(value,key)for (key,value) in word_index.items()])\n",
    "for _ in train_data[0]:\n",
    "    print(word_index.get(_ -3))"
   ]
  },
  {
   "cell_type": "code",
   "execution_count": 4,
   "metadata": {},
   "outputs": [
    {
     "data": {
      "text/plain": [
       "3"
      ]
     },
     "execution_count": 4,
     "metadata": {},
     "output_type": "execute_result"
    }
   ],
   "source": [
    "train_labels[0]"
   ]
  },
  {
   "cell_type": "code",
   "execution_count": 5,
   "metadata": {},
   "outputs": [
    {
     "data": {
      "text/plain": [
       "(8982,)"
      ]
     },
     "execution_count": 5,
     "metadata": {},
     "output_type": "execute_result"
    }
   ],
   "source": [
    "#ojo train data no es tipo tensor observemos:\n",
    "\n",
    "train_data.shape"
   ]
  },
  {
   "cell_type": "code",
   "execution_count": 6,
   "metadata": {},
   "outputs": [],
   "source": [
    "## UTILIZAMOS EL COMANDO AXIS \n",
    "\n",
    "def vectorizar(sequences, dim=10000):\n",
    "    results=np.zeros((len(sequences),dim))\n",
    "    for i ,sequences in enumerate(sequences):\n",
    "        results[i,sequences]=1\n",
    "    return results"
   ]
  },
  {
   "cell_type": "code",
   "execution_count": 7,
   "metadata": {},
   "outputs": [],
   "source": [
    "x_train=vectorizar(train_data)\n",
    "x_test=vectorizar(test_data)"
   ]
  },
  {
   "cell_type": "code",
   "execution_count": 8,
   "metadata": {},
   "outputs": [
    {
     "data": {
      "text/plain": [
       "3"
      ]
     },
     "execution_count": 8,
     "metadata": {},
     "output_type": "execute_result"
    }
   ],
   "source": [
    "train_labels[0] ## ES UN ESCALAR Y PARA CLASIFICACIÓN ES MEJOR SEPARARLO EN UN VECTOR"
   ]
  },
  {
   "cell_type": "code",
   "execution_count": 9,
   "metadata": {},
   "outputs": [],
   "source": [
    "## PARA ESO VAMOS A USAR UNA HERRAMIENTO QUE NOS PROPORCIONA KERAS.UTILS TO CATEGORICAL\n",
    "from keras.utils import to_categorical"
   ]
  },
  {
   "cell_type": "code",
   "execution_count": 10,
   "metadata": {},
   "outputs": [
    {
     "data": {
      "text/plain": [
       "array([0., 0., 0., 1., 0., 0., 0., 0., 0., 0., 0., 0., 0., 0., 0., 0., 0.,\n",
       "       0., 0., 0., 0., 0., 0., 0., 0., 0., 0., 0., 0., 0., 0., 0., 0., 0.,\n",
       "       0., 0., 0., 0., 0., 0., 0., 0., 0., 0., 0., 0.], dtype=float32)"
      ]
     },
     "execution_count": 10,
     "metadata": {},
     "output_type": "execute_result"
    }
   ],
   "source": [
    "y_train=to_categorical(train_labels)\n",
    "y_test=to_categorical(test_labels)\n",
    "y_train[0]"
   ]
  },
  {
   "cell_type": "code",
   "execution_count": 11,
   "metadata": {},
   "outputs": [],
   "source": [
    "## CREAMOS NUESTRO MODELO\n",
    "\n",
    "model=models.Sequential()\n",
    "model.add(layers.Dense(64,activation=\"relu\",input_shape=(10000,)))\n",
    "model.add(layers.Dense(64,activation=\"relu\"))\n",
    "model.add(layers.Dense(46,activation=\"softmax\")) ## SALIDAS DE MI MODELO CADA NEURONA SE DA CUENTA DE UN POSIBLE TIPO\n",
    "\n",
    "## softmax se lleva muy bien con modelos de clasificación puesto que me da las probabilidades de cada posible salida\n"
   ]
  },
  {
   "cell_type": "code",
   "execution_count": 12,
   "metadata": {},
   "outputs": [],
   "source": [
    "##COMPILAMOS EL Modelo\n",
    "model.compile(optimizer=\"rmsprop\",loss=\"categorical_crossentropy\",metrics=\"accuracy\")  ## CASOS MULTIPLES \n"
   ]
  },
  {
   "cell_type": "code",
   "execution_count": 13,
   "metadata": {},
   "outputs": [],
   "source": [
    "## GENERAMOS NUESTRO SET DE VALIDACIÓN\n",
    "\n",
    "x_val=x_train[:1000]\n",
    "partial_x_train=x_train[1000:] #\n",
    "\n",
    "y_val=y_train[:1000]\n",
    "partial_y_train=y_train[1000:] "
   ]
  },
  {
   "cell_type": "code",
   "execution_count": 14,
   "metadata": {},
   "outputs": [
    {
     "name": "stdout",
     "output_type": "stream",
     "text": [
      "Epoch 1/30\n",
      "16/16 [==============================] - 2s 75ms/step - loss: 2.6518 - accuracy: 0.4767 - val_loss: 1.8372 - val_accuracy: 0.5880\n",
      "Epoch 2/30\n",
      "16/16 [==============================] - 1s 65ms/step - loss: 1.4424 - accuracy: 0.6999 - val_loss: 1.3149 - val_accuracy: 0.7110\n",
      "Epoch 3/30\n",
      "16/16 [==============================] - 1s 66ms/step - loss: 1.0319 - accuracy: 0.7762 - val_loss: 1.1314 - val_accuracy: 0.7640\n",
      "Epoch 4/30\n",
      "16/16 [==============================] - 1s 72ms/step - loss: 0.8044 - accuracy: 0.8250 - val_loss: 1.0264 - val_accuracy: 0.7840\n",
      "Epoch 5/30\n",
      "16/16 [==============================] - 1s 65ms/step - loss: 0.6427 - accuracy: 0.8677 - val_loss: 0.9598 - val_accuracy: 0.8060\n",
      "Epoch 6/30\n",
      "16/16 [==============================] - 1s 63ms/step - loss: 0.5117 - accuracy: 0.8946 - val_loss: 0.9249 - val_accuracy: 0.8140\n",
      "Epoch 7/30\n",
      "16/16 [==============================] - 1s 69ms/step - loss: 0.4110 - accuracy: 0.9153 - val_loss: 0.9166 - val_accuracy: 0.8140\n",
      "Epoch 8/30\n",
      "16/16 [==============================] - 1s 55ms/step - loss: 0.3312 - accuracy: 0.9322 - val_loss: 0.9093 - val_accuracy: 0.8120\n",
      "Epoch 9/30\n",
      "16/16 [==============================] - 1s 59ms/step - loss: 0.2735 - accuracy: 0.9409 - val_loss: 0.8994 - val_accuracy: 0.8140\n",
      "Epoch 10/30\n",
      "16/16 [==============================] - 1s 58ms/step - loss: 0.2332 - accuracy: 0.9476 - val_loss: 0.9445 - val_accuracy: 0.8020\n",
      "Epoch 11/30\n",
      "16/16 [==============================] - 1s 60ms/step - loss: 0.2046 - accuracy: 0.9500 - val_loss: 0.9216 - val_accuracy: 0.8070\n",
      "Epoch 12/30\n",
      "16/16 [==============================] - 1s 57ms/step - loss: 0.1754 - accuracy: 0.9528 - val_loss: 0.9887 - val_accuracy: 0.7950\n",
      "Epoch 13/30\n",
      "16/16 [==============================] - 1s 60ms/step - loss: 0.1586 - accuracy: 0.9562 - val_loss: 0.9641 - val_accuracy: 0.8140\n",
      "Epoch 14/30\n",
      "16/16 [==============================] - 1s 59ms/step - loss: 0.1465 - accuracy: 0.9572 - val_loss: 0.9789 - val_accuracy: 0.8100\n",
      "Epoch 15/30\n",
      "16/16 [==============================] - 1s 63ms/step - loss: 0.1374 - accuracy: 0.9550 - val_loss: 0.9615 - val_accuracy: 0.8150\n",
      "Epoch 16/30\n",
      "16/16 [==============================] - 1s 62ms/step - loss: 0.1262 - accuracy: 0.9564 - val_loss: 1.0203 - val_accuracy: 0.7960\n",
      "Epoch 17/30\n",
      "16/16 [==============================] - 1s 64ms/step - loss: 0.1259 - accuracy: 0.9567 - val_loss: 0.9975 - val_accuracy: 0.8110\n",
      "Epoch 18/30\n",
      "16/16 [==============================] - 1s 62ms/step - loss: 0.1177 - accuracy: 0.9579 - val_loss: 1.0278 - val_accuracy: 0.8100\n",
      "Epoch 19/30\n",
      "16/16 [==============================] - 1s 60ms/step - loss: 0.1109 - accuracy: 0.9578 - val_loss: 1.1482 - val_accuracy: 0.7820\n",
      "Epoch 20/30\n",
      "16/16 [==============================] - 1s 59ms/step - loss: 0.1141 - accuracy: 0.9564 - val_loss: 1.0460 - val_accuracy: 0.8050\n",
      "Epoch 21/30\n",
      "16/16 [==============================] - 1s 62ms/step - loss: 0.1131 - accuracy: 0.9570 - val_loss: 1.0882 - val_accuracy: 0.8010\n",
      "Epoch 22/30\n",
      "16/16 [==============================] - 1s 65ms/step - loss: 0.1049 - accuracy: 0.9587 - val_loss: 1.0804 - val_accuracy: 0.8090\n",
      "Epoch 23/30\n",
      "16/16 [==============================] - 1s 55ms/step - loss: 0.1048 - accuracy: 0.9583 - val_loss: 1.1162 - val_accuracy: 0.8040\n",
      "Epoch 24/30\n",
      "16/16 [==============================] - 1s 58ms/step - loss: 0.1014 - accuracy: 0.9588 - val_loss: 1.1592 - val_accuracy: 0.7950\n",
      "Epoch 25/30\n",
      "16/16 [==============================] - 1s 57ms/step - loss: 0.0993 - accuracy: 0.9608 - val_loss: 1.1421 - val_accuracy: 0.7990\n",
      "Epoch 26/30\n",
      "16/16 [==============================] - 1s 57ms/step - loss: 0.0968 - accuracy: 0.9573 - val_loss: 1.1495 - val_accuracy: 0.8040\n",
      "Epoch 27/30\n",
      "16/16 [==============================] - 1s 63ms/step - loss: 0.0999 - accuracy: 0.9583 - val_loss: 1.1661 - val_accuracy: 0.8030\n",
      "Epoch 28/30\n",
      "16/16 [==============================] - 1s 55ms/step - loss: 0.0946 - accuracy: 0.9588 - val_loss: 1.1318 - val_accuracy: 0.8080\n",
      "Epoch 29/30\n",
      "16/16 [==============================] - 1s 59ms/step - loss: 0.0968 - accuracy: 0.9580 - val_loss: 1.1787 - val_accuracy: 0.8040\n",
      "Epoch 30/30\n",
      "16/16 [==============================] - 1s 57ms/step - loss: 0.0894 - accuracy: 0.9608 - val_loss: 1.1777 - val_accuracy: 0.8010\n"
     ]
    }
   ],
   "source": [
    "#ENTRENAMIENTO DEL MODELO DEL CLASIFICACIÓN MULTIPLE\n",
    "\n",
    "history=model.fit(partial_x_train,partial_y_train,epochs=30,batch_size=512,validation_data=(x_val,y_val))"
   ]
  },
  {
   "cell_type": "code",
   "execution_count": 15,
   "metadata": {},
   "outputs": [
    {
     "data": {
      "image/png": "[encoded data removed]",
      "text/plain": [
       "<Figure size 432x288 with 1 Axes>"
      ]
     },
     "metadata": {
      "needs_background": "light"
     },
     "output_type": "display_data"
    }
   ],
   "source": [
    "history_dict=history.history\n",
    "loss_values=history_dict[\"loss\"]\n",
    "val_loss_values=history_dict[\"val_loss\"]\n",
    "epoch=range(1,len(loss_values)+1)\n",
    "plt.plot(epoch,loss_values,\"o\",label=\"training\")\n",
    "\n",
    "plt.plot(epoch,val_loss_values,\"--\",label=\"VALIDATION\")\n",
    "plt.legend()\n",
    "plt.show()"
   ]
  },
  {
   "cell_type": "code",
   "execution_count": 16,
   "metadata": {},
   "outputs": [
    {
     "data": {
      "image/png": "[encoded data removed]",
      "text/plain": [
       "<Figure size 432x288 with 1 Axes>"
      ]
     },
     "metadata": {
      "needs_background": "light"
     },
     "output_type": "display_data"
    }
   ],
   "source": [
    "history_dict=history.history\n",
    "loss_values=history_dict[\"accuracy\"]\n",
    "val_loss_values=history_dict[\"val_accuracy\"]\n",
    "epoch=range(1,len(loss_values)+1)\n",
    "plt.plot(epoch,loss_values,\"o\",label=\"training\")\n",
    "\n",
    "plt.plot(epoch,val_loss_values,\"--\",label=\"VALIDATION\")\n",
    "plt.legend()\n",
    "plt.show()"
   ]
  },
  {
   "cell_type": "markdown",
   "metadata": {},
   "source": [
    "NUESTRA RED HACE OVERFITTING EN ALGUN PUNTO, MIENTRAS QUE EN VALIDACIÓN SE ESTANCA Y NO ES CAPAZ DE PREDECIRLA"
   ]
  },
  {
   "cell_type": "code",
   "execution_count": 18,
   "metadata": {},
   "outputs": [
    {
     "name": "stdout",
     "output_type": "stream",
     "text": [
      "71/71 [==============================] - 2s 6ms/step - loss: 1.3804 - accuracy: 0.7823\n"
     ]
    },
    {
     "data": {
      "text/plain": [
       "[1.380368947982788, 0.7822796106338501]"
      ]
     },
     "execution_count": 18,
     "metadata": {},
     "output_type": "execute_result"
    }
   ],
   "source": [
    "## LAS EPOCAS TAMBIEN TIENEN MUCHO QUE VER EN EL DESEMPEÑO DE NUESTRO MODELO, NO LO ITEREMOS MAS VECES DE LO QUE ES POSIBLE\n",
    "model.evaluate(x_test,y_test)\n"
   ]
  },
  {
   "cell_type": "code",
   "execution_count": 21,
   "metadata": {},
   "outputs": [
    {
     "name": "stdout",
     "output_type": "stream",
     "text": [
      "71/71 [==============================] - 0s 5ms/step\n"
     ]
    },
    {
     "data": {
      "text/plain": [
       "array([4.02876452e-08, 3.67744605e-07, 2.69382205e-09, 9.93538558e-01,\n",
       "       4.78317076e-03, 1.99820871e-09, 4.85961705e-12, 1.35848404e-06,\n",
       "       4.93797765e-04, 5.48075832e-07, 5.62857679e-07, 6.06721092e-04,\n",
       "       3.30688090e-06, 1.63913523e-06, 1.97716865e-08, 4.16101764e-10,\n",
       "       5.15002421e-06, 1.02325215e-08, 5.85908197e-07, 5.15137508e-04,\n",
       "       1.36653962e-05, 2.71604058e-05, 8.28225044e-09, 2.70362563e-07,\n",
       "       4.36646830e-10, 5.92640319e-08, 1.30138067e-09, 4.17298951e-09,\n",
       "       7.32956835e-07, 5.15484366e-08, 8.17550017e-07, 2.32288073e-08,\n",
       "       6.90358718e-07, 2.62456112e-10, 4.93447260e-07, 3.60198484e-08,\n",
       "       4.97927476e-06, 1.21312438e-09, 1.12023146e-08, 3.43344381e-10,\n",
       "       1.85949443e-08, 1.52639790e-09, 1.26871864e-11, 1.41885148e-09,\n",
       "       1.32605655e-16, 7.03484826e-09], dtype=float32)"
      ]
     },
     "execution_count": 21,
     "metadata": {},
     "output_type": "execute_result"
    }
   ],
   "source": [
    "## HAGAMOS PREDICCIONES\n",
    "\n",
    "predictions=model.predict(x_test)\n",
    "predictions[0]\n",
    "\n",
    "### TENEMOS UNA CAPA DE SALIDA DE 46 NEURONAS, Y CADA NEURONA TIENE UN PESO"
   ]
  },
  {
   "cell_type": "code",
   "execution_count": 22,
   "metadata": {},
   "outputs": [
    {
     "data": {
      "text/plain": [
       "1.0000001"
      ]
     },
     "execution_count": 22,
     "metadata": {},
     "output_type": "execute_result"
    }
   ],
   "source": [
    "np.sum(predictions[0]) ## MODELOS PROBABILISTICOS"
   ]
  },
  {
   "cell_type": "code",
   "execution_count": 23,
   "metadata": {},
   "outputs": [
    {
     "data": {
      "text/plain": [
       "3"
      ]
     },
     "execution_count": 23,
     "metadata": {},
     "output_type": "execute_result"
    }
   ],
   "source": [
    "## AHORA COMO INTERPRETAMOS LOS DATOS, MEDIANTE LA PROBABILIDAD MAS ALTA:\n",
    "np.argmax(predictions[0])"
   ]
  }
 ],
 "metadata": {
  "interpreter": {
   "hash": "07614c21755fca2e5437534253816bd89da6526460ae43611f5bb73c32569538"
  },
  "kernelspec": {
   "display_name": "Python 3.9.2 64-bit",
   "language": "python",
   "name": "python3"
  },
  "language_info": {
   "codemirror_mode": {
    "name": "ipython",
    "version": 3
   },
   "file_extension": ".py",
   "mimetype": "text/x-python",
   "name": "python",
   "nbconvert_exporter": "python",
   "pygments_lexer": "ipython3",
   "version": "3.9.2"
  },
  "orig_nbformat": 4
 },
 "nbformat": 4,
 "nbformat_minor": 2
}
