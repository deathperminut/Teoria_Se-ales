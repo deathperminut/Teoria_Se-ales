{
 "cells": [
  {
   "cell_type": "code",
   "execution_count": 45,
   "metadata": {},
   "outputs": [],
   "source": [
    "##LIBRERIAS REDES NEURONALES CONVOLUCIONALES\n",
    "import tensorflow as tf\n",
    "from tensorflow.keras.layers import Conv2D, Dropout,MaxPooling2D,Flatten,Dense\n",
    "################################################################################\n",
    "\n",
    "\n",
    "##DATA\n",
    "from tensorflow.keras.datasets import fashion_mnist\n",
    "########################################################################\n",
    "\n",
    "##LIBRERIAS PARA TRATAMIENTO GRAFICO Y MATEMATICO\n",
    "import numpy as np\n",
    "import matplotlib.pyplot as plt\n",
    "###########################################################################"
   ]
  },
  {
   "cell_type": "code",
   "execution_count": 46,
   "metadata": {},
   "outputs": [
    {
     "data": {
      "text/plain": [
       "'\\n\\nDESCARGAMOS LA INFORMACIÓN A NUESTRA NOTEBOOK\\n\\n'"
      ]
     },
     "execution_count": 46,
     "metadata": {},
     "output_type": "execute_result"
    }
   ],
   "source": [
    "\n",
    "(train_images, train_labels), (test_images, test_labels) = fashion_mnist.load_data()\n",
    "\"\"\"\n",
    "\n",
    "DESCARGAMOS LA INFORMACIÓN A NUESTRA NOTEBOOK\n",
    "\n",
    "\"\"\""
   ]
  },
  {
   "cell_type": "code",
   "execution_count": 47,
   "metadata": {},
   "outputs": [
    {
     "data": {
      "text/plain": [
       "(60000, 28, 28)"
      ]
     },
     "execution_count": 47,
     "metadata": {},
     "output_type": "execute_result"
    }
   ],
   "source": [
    "### REALIZAREMOS ANALISIS EXPLORATORIO\n",
    "train_images.shape ###TENEMOS 60000 IMAGENES REPRESENTADAS EN UNA MATRIZ DE 28,28 QUE SERIAN PIXELES"
   ]
  },
  {
   "cell_type": "code",
   "execution_count": 48,
   "metadata": {},
   "outputs": [
    {
     "data": {
      "text/plain": [
       "<matplotlib.image.AxesImage at 0x22b8379bfd0>"
      ]
     },
     "execution_count": 48,
     "metadata": {},
     "output_type": "execute_result"
    },
    {
     "data": {
      "image/png": "[encoded data removed]",
      "text/plain": [
       "<Figure size 432x288 with 1 Axes>"
      ]
     },
     "metadata": {
      "needs_background": "light"
     },
     "output_type": "display_data"
    }
   ],
   "source": [
    "plt.imshow(train_images[99]) ### COMANDO PARA GRAFICAR IMAGENES \n",
    "## COMO PODEMOS OBSERVAR ES UN ALMACEN DE ROPA"
   ]
  },
  {
   "cell_type": "markdown",
   "metadata": {},
   "source": [
    "LIMPIEZA DE DATOS"
   ]
  },
  {
   "cell_type": "code",
   "execution_count": 49,
   "metadata": {},
   "outputs": [
    {
     "data": {
      "text/plain": [
       "'\\n\\nCOMO ESTAMOS TRABAJANDO EN CATEGORIAS COMO SALIDA, LO MEJOR ES TRABAJARLO DE FORMA VECTORIAL.\\nEN UN SOLO ARREGLO DE CEROS Y UNOS.\\n\\n'"
      ]
     },
     "execution_count": 49,
     "metadata": {},
     "output_type": "execute_result"
    }
   ],
   "source": [
    "## AHORA VAMOS A LIMPIAR NUESTROS DATOS\n",
    "\n",
    "train_images = train_images.astype('float32') / 255 ##CONVERTIMOS EN FLOTANTE PARA QUE LA RED LOS PUEDA TRABAJAR\n",
    "# MAS FACILMENTE Y SOBRE 255 DEBIDO A QUE LOS PIXELES QUE MANEJAN LAS IMAGENES VAN DE 1 A 255 \n",
    "test_images = test_images.astype('float32') / 255\n",
    "\n",
    "\n",
    "\"\"\"\n",
    "EL PRIMER PARAMETRO ES EL CONJUNTO TOTAL DE IMAGENES OSEA 60000,\n",
    "DESPUES VIENEN LOS 28*28, Y EL ULTIMO 1 SE REFIERE A QUE SOLO ES UN CANAL\n",
    "YA QUE ESTAMOS TRABAJANDO CON ESCALA DE GRISES, SINO SERIAN 3 CANALES AL ADMITIR LOS DEMAS COLORES.\n",
    "\"\"\"\n",
    "train_images = train_images.reshape(train_images.shape[0], 28, 28, 1)\n",
    "test_images = test_images.reshape(test_images.shape[0], 28, 28, 1)\n",
    "\n",
    "train_labels = tf.keras.utils.to_categorical(train_labels, 10)## TENGO SOLO 10 POSIBLES OPCIONES \n",
    "test_labels = tf.keras.utils.to_categorical(test_labels, 10)\n",
    "\"\"\"\n",
    "\n",
    "COMO ESTAMOS TRABAJANDO EN CATEGORIAS COMO SALIDA, LO MEJOR ES TRABAJARLO DE FORMA VECTORIAL.\n",
    "EN UN SOLO ARREGLO DE CEROS Y UNOS.\n",
    "\n",
    "\"\"\""
   ]
  },
  {
   "cell_type": "markdown",
   "metadata": {},
   "source": [
    "AHORA VAMOS A CREAR NUESTRO MODELO DE DATOS"
   ]
  },
  {
   "cell_type": "code",
   "execution_count": 50,
   "metadata": {},
   "outputs": [
    {
     "name": "stdout",
     "output_type": "stream",
     "text": [
      "Model: \"sequential_5\"\n",
      "_________________________________________________________________\n",
      " Layer (type)                Output Shape              Param #   \n",
      "=================================================================\n",
      " conv2d_4 (Conv2D)           (None, 28, 28, 64)        320       \n",
      "                                                                 \n",
      " max_pooling2d_4 (MaxPooling  (None, 14, 14, 64)       0         \n",
      " 2D)                                                             \n",
      "                                                                 \n",
      " dropout_6 (Dropout)         (None, 14, 14, 64)        0         \n",
      "                                                                 \n",
      " conv2d_5 (Conv2D)           (None, 14, 14, 32)        8224      \n",
      "                                                                 \n",
      " max_pooling2d_5 (MaxPooling  (None, 7, 7, 32)         0         \n",
      " 2D)                                                             \n",
      "                                                                 \n",
      " dropout_7 (Dropout)         (None, 7, 7, 32)          0         \n",
      "                                                                 \n",
      " flatten_2 (Flatten)         (None, 1568)              0         \n",
      "                                                                 \n",
      " dense_4 (Dense)             (None, 256)               401664    \n",
      "                                                                 \n",
      " dropout_8 (Dropout)         (None, 256)               0         \n",
      "                                                                 \n",
      " dense_5 (Dense)             (None, 10)                2570      \n",
      "                                                                 \n",
      "=================================================================\n",
      "Total params: 412,778\n",
      "Trainable params: 412,778\n",
      "Non-trainable params: 0\n",
      "_________________________________________________________________\n"
     ]
    }
   ],
   "source": [
    "model = tf.keras.Sequential()\n",
    "# Must define the input shape in the first layer of the neural network\n",
    "model.add(Conv2D(filters=64, kernel_size=2, padding='same', activation='relu', input_shape=(28,28,1))) \n",
    "\"\"\"\n",
    "PARAMETROS IMPORTANTES EN UNA RED CONVOLUCIONAL, PRIMERO ESTA GENERALMENTE ES LA RED DE ENTRADA, \n",
    "AQUI TENEMOS:\n",
    "filter{int} : NUMERO DEL FILTRO\n",
    "kernel_size{int}\n",
    "input_shape=(COMO VOY A RECIBIR LOS DATOS POR EJEMPLAR, NO EN CONJUNTO POR ESO SERIA MATRIZ DE 28,28 DE UN SOLO\n",
    "CANAL)\n",
    "\"\"\"\n",
    "### AHORA APILAMOS CAPAS\n",
    "model.add(MaxPooling2D(pool_size=2))\n",
    "model.add(Dropout(0.3)) ## REDUCIR OVERFITTING\n",
    "model.add(Conv2D(filters=32, kernel_size=2, padding='same', activation='relu'))\n",
    "model.add(MaxPooling2D(pool_size=2))\n",
    "model.add(Dropout(0.3))\n",
    "model.add(Flatten())## APLANA LA MATRIZ O TENSORES PARA QUE QUEDENE EN SERIE\n",
    "## Y YA CON VECTORES PLANOS, YA PUEDO UTILIZAR CAPAS DENSAS COMO VENIAMOS TRAJABAJANDO ANTES\n",
    "\n",
    "model.add(Dense(256, activation='relu'))\n",
    "model.add(Dropout(0.5))\n",
    "model.add(Dense(10, activation='softmax')) ## 10 PORQUE SON 10 OPCIONES\n",
    "## DE TIPO SOFTMAX LA DE SALIDA PORQUE ME DA LA PROBABILIDAD PARA CADA CLASE\n",
    "## SUMANDOLAS ME DA UNO ENTONCES ESCOJO LA DE MAYOR PROBABILIDAD\n",
    "# Take a look at the model summary\n",
    "model.summary()\n",
    "\n",
    "\n"
   ]
  },
  {
   "cell_type": "markdown",
   "metadata": {},
   "source": [
    "COMPILAR-ENTRENAR"
   ]
  },
  {
   "cell_type": "code",
   "execution_count": 51,
   "metadata": {},
   "outputs": [],
   "source": [
    "### COMPILAMOS EL MODELO\n",
    "model.compile(loss='categorical_crossentropy',\n",
    "             optimizer='rmsprop',\n",
    "             metrics=['accuracy']) ### CATEGORICAL_CROSSENTROPY DEBIDO A QUE ESTAMOS EN UN MODELO DE CLASIFICACIÓN\n",
    "\n",
    "## ADEMAS EXISTEN MULTIPLES OPCIONES, POR LO TANTO CATEGORICAL ES IDEAL\n",
    "## SI FUERAN SOLO 2 SERIAS BINARY CROSSENTROPY"
   ]
  },
  {
   "cell_type": "code",
   "execution_count": 52,
   "metadata": {},
   "outputs": [
    {
     "name": "stdout",
     "output_type": "stream",
     "text": [
      "Epoch 1/10\n",
      "938/938 [==============================] - 107s 111ms/step - loss: 0.5741 - accuracy: 0.7904\n",
      "Epoch 2/10\n",
      "938/938 [==============================] - 104s 111ms/step - loss: 0.3933 - accuracy: 0.8595\n",
      "Epoch 3/10\n",
      "938/938 [==============================] - 110s 117ms/step - loss: 0.3525 - accuracy: 0.8741\n",
      "Epoch 4/10\n",
      "938/938 [==============================] - 86s 92ms/step - loss: 0.3332 - accuracy: 0.8798\n",
      "Epoch 5/10\n",
      "938/938 [==============================] - 85s 90ms/step - loss: 0.3257 - accuracy: 0.8855\n",
      "Epoch 6/10\n",
      "938/938 [==============================] - 90s 96ms/step - loss: 0.3166 - accuracy: 0.8886\n",
      "Epoch 7/10\n",
      "938/938 [==============================] - 109s 116ms/step - loss: 0.3148 - accuracy: 0.8888\n",
      "Epoch 8/10\n",
      "938/938 [==============================] - 94s 100ms/step - loss: 0.3109 - accuracy: 0.8906\n",
      "Epoch 9/10\n",
      "938/938 [==============================] - 84s 89ms/step - loss: 0.3131 - accuracy: 0.8914\n",
      "Epoch 10/10\n",
      "938/938 [==============================] - 103s 110ms/step - loss: 0.3117 - accuracy: 0.8919\n"
     ]
    },
    {
     "data": {
      "text/plain": [
       "<keras.callbacks.History at 0x22b80342cd0>"
      ]
     },
     "execution_count": 52,
     "metadata": {},
     "output_type": "execute_result"
    }
   ],
   "source": [
    "\n",
    "model.fit(train_images,\n",
    "         train_labels,\n",
    "         batch_size=64,\n",
    "         epochs=10)"
   ]
  },
  {
   "cell_type": "code",
   "execution_count": 53,
   "metadata": {},
   "outputs": [
    {
     "data": {
      "text/plain": [
       "[0.3219927251338959, 0.8867999911308289]"
      ]
     },
     "execution_count": 53,
     "metadata": {},
     "output_type": "execute_result"
    }
   ],
   "source": [
    "score = model.evaluate(test_images, test_labels, verbose=0)\n",
    "score"
   ]
  }
 ],
 "metadata": {
  "interpreter": {
   "hash": "07614c21755fca2e5437534253816bd89da6526460ae43611f5bb73c32569538"
  },
  "kernelspec": {
   "display_name": "Python 3.9.2 64-bit",
   "language": "python",
   "name": "python3"
  },
  "language_info": {
   "codemirror_mode": {
    "name": "ipython",
    "version": 3
   },
   "file_extension": ".py",
   "mimetype": "text/x-python",
   "name": "python",
   "nbconvert_exporter": "python",
   "pygments_lexer": "ipython3",
   "version": "3.9.2"
  },
  "orig_nbformat": 4
 },
 "nbformat": 4,
 "nbformat_minor": 2
}
