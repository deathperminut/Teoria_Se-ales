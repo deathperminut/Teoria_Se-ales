{
 "cells": [
  {
   "cell_type": "code",
   "execution_count": 1,
   "metadata": {},
   "outputs": [],
   "source": [
    "import pandas as pd\n",
    "import numpy as np\n",
    "from keras.datasets import boston_housing\n",
    "from keras import layers,models,optimizers"
   ]
  },
  {
   "cell_type": "code",
   "execution_count": 2,
   "metadata": {},
   "outputs": [],
   "source": [
    "(train_data,train_labels),(test_data,test_labels)=boston_housing.load_data()"
   ]
  },
  {
   "cell_type": "code",
   "execution_count": 7,
   "metadata": {},
   "outputs": [
    {
     "name": "stdout",
     "output_type": "stream",
     "text": [
      "(404, 13)\n"
     ]
    },
    {
     "data": {
      "text/plain": [
       "13"
      ]
     },
     "execution_count": 7,
     "metadata": {},
     "output_type": "execute_result"
    }
   ],
   "source": [
    "##(404,13) 404 EJEMPLARES, CON 13 ATRIBUTOS DE CADA NEURONA\n",
    "print(train_data.shape)\n",
    "train_data[0]"
   ]
  },
  {
   "cell_type": "code",
   "execution_count": 18,
   "metadata": {},
   "outputs": [
    {
     "data": {
      "text/plain": [
       "(404,)"
      ]
     },
     "execution_count": 18,
     "metadata": {},
     "output_type": "execute_result"
    }
   ],
   "source": [
    "train_labels.shape ## no es un tensor OJO YA ENCONTRAMOS ALGO A CORREGIR"
   ]
  },
  {
   "cell_type": "code",
   "execution_count": 19,
   "metadata": {},
   "outputs": [
    {
     "data": {
      "text/plain": [
       "15.2"
      ]
     },
     "execution_count": 19,
     "metadata": {},
     "output_type": "execute_result"
    }
   ],
   "source": [
    "train_labels[0] ## OBTIENE SOLO UN VALOR Y ES DE 15000 DOLARES"
   ]
  },
  {
   "cell_type": "code",
   "execution_count": 20,
   "metadata": {},
   "outputs": [
    {
     "data": {
      "text/plain": [
       "array([  1.23247,   0.     ,   8.14   ,   0.     ,   0.538  ,   6.142  ,\n",
       "        91.7    ,   3.9769 ,   4.     , 307.     ,  21.     , 396.9    ,\n",
       "        18.72   ])"
      ]
     },
     "execution_count": 20,
     "metadata": {},
     "output_type": "execute_result"
    }
   ],
   "source": [
    "train_data[0] ## PODEMOS OBSERVAR QUE HAY VALORES MUY DISTANTES, ES DIFICIL PARA UNA RED NEURONAL TRABAJAR DE ESTA FORMA\n",
    "### LO MEJOR SERIA NORMALIZAR\n"
   ]
  },
  {
   "cell_type": "code",
   "execution_count": 21,
   "metadata": {},
   "outputs": [],
   "source": [
    "## NORMALIZAMOS LOS DATOS, RESTAR LA MEDIA Y DIVIDIR POR LA DESVIACIÓN ESTANDAR\n",
    "\n",
    "mean=train_data.mean(axis=0)\n",
    "train_data=train_data-mean\n",
    "std=train_data.std(axis=0)\n",
    "train_data=train_data/std\n",
    "\n",
    "test_data=test_data-mean ## USO LA MEDIA DE MI CAPA DE ENTRENAMIENTO\n",
    "std=test_data.std(axis=0)\n",
    "test_data=test_data/std"
   ]
  },
  {
   "cell_type": "code",
   "execution_count": 22,
   "metadata": {},
   "outputs": [],
   "source": [
    "def build_model_regression(lr,input_data):\n",
    "    model=models.Sequential()\n",
    "    model.add(layers.Dense(64,activation=\"relu\",input_shape=(input_data,))) ## SIEMPRE MIRAR LA SEGUNDA DIMENSION\n",
    "    model.add(layers.Dense(64,activation=\"relu\"))\n",
    "    model.add(layers.Dense(1)) ## COMO ES LINEAL LA SALIDA NO NECESITO PONERLE UNA CAPA DE ACTIVACIÓN\n",
    "    model.compile(optimizer=optimizers.RMSprop(lr=0.001),loss=\"mse\",metrics=[\"mae\"])\n",
    "    return model\n",
    "### PARA REGRESION SE USA LOSS=\"MSE\" Y METRICS = \"MAE\""
   ]
  },
  {
   "cell_type": "code",
   "execution_count": 23,
   "metadata": {},
   "outputs": [],
   "source": [
    "## 4 SETS DE VALIDACIONES\n",
    "\n",
    "k=4\n",
    "num_val_samples=len(train_data)//k\n",
    "num_epoch=500\n",
    "all_history=[]"
   ]
  },
  {
   "cell_type": "code",
   "execution_count": 24,
   "metadata": {},
   "outputs": [
    {
     "name": "stdout",
     "output_type": "stream",
     "text": [
      "Fold: 0\n"
     ]
    },
    {
     "name": "stderr",
     "output_type": "stream",
     "text": [
      "c:\\Users\\DeLL-PC\\AppData\\Local\\Programs\\Python\\Python39\\lib\\site-packages\\keras\\optimizers\\optimizer_v2\\rmsprop.py:135: UserWarning: The `lr` argument is deprecated, use `learning_rate` instead.\n",
      "  super(RMSprop, self).__init__(name, **kwargs)\n"
     ]
    },
    {
     "name": "stdout",
     "output_type": "stream",
     "text": [
      "Fold: 1\n",
      "Fold: 2\n",
      "Fold: 3\n"
     ]
    }
   ],
   "source": [
    "for i in range(k):\n",
    "    print(\"Fold:\",i)\n",
    "    val_data=train_data[i*num_val_samples:(i+1)*num_val_samples]\n",
    "    val_targets=train_labels[i*num_val_samples:(i+1)*num_val_samples]\n",
    "\n",
    "    partial_train_data=np.concatenate([train_data[:i*num_val_samples],train_data[(i+1)*num_val_samples:]],axis=0)\n",
    "    partial_train_targets=np.concatenate([train_labels[:i*num_val_samples],train_labels[(i+1)*num_val_samples:]],axis=0)\n",
    "    \n",
    "    model=build_model_regression(0.001,13)\n",
    "    history=model.fit(partial_train_data,partial_train_targets,epochs=num_epoch,batch_size=16,validation_data=(val_data,val_targets),verbose=0)\n",
    "    all_history.append(history.history[\"val_mae\"])\n"
   ]
  },
  {
   "cell_type": "code",
   "execution_count": 25,
   "metadata": {},
   "outputs": [
    {
     "data": {
      "text/html": [
       "<div>\n",
       "<style scoped>\n",
       "    .dataframe tbody tr th:only-of-type {\n",
       "        vertical-align: middle;\n",
       "    }\n",
       "\n",
       "    .dataframe tbody tr th {\n",
       "        vertical-align: top;\n",
       "    }\n",
       "\n",
       "    .dataframe thead th {\n",
       "        text-align: right;\n",
       "    }\n",
       "</style>\n",
       "<table border=\"1\" class=\"dataframe\">\n",
       "  <thead>\n",
       "    <tr style=\"text-align: right;\">\n",
       "      <th></th>\n",
       "      <th>0</th>\n",
       "      <th>1</th>\n",
       "      <th>2</th>\n",
       "      <th>3</th>\n",
       "      <th>4</th>\n",
       "      <th>5</th>\n",
       "      <th>6</th>\n",
       "      <th>7</th>\n",
       "      <th>8</th>\n",
       "      <th>9</th>\n",
       "      <th>...</th>\n",
       "      <th>490</th>\n",
       "      <th>491</th>\n",
       "      <th>492</th>\n",
       "      <th>493</th>\n",
       "      <th>494</th>\n",
       "      <th>495</th>\n",
       "      <th>496</th>\n",
       "      <th>497</th>\n",
       "      <th>498</th>\n",
       "      <th>499</th>\n",
       "    </tr>\n",
       "  </thead>\n",
       "  <tbody>\n",
       "    <tr>\n",
       "      <th>0</th>\n",
       "      <td>18.219635</td>\n",
       "      <td>14.309616</td>\n",
       "      <td>9.801969</td>\n",
       "      <td>6.258868</td>\n",
       "      <td>4.654944</td>\n",
       "      <td>3.777318</td>\n",
       "      <td>3.297206</td>\n",
       "      <td>3.145150</td>\n",
       "      <td>2.977089</td>\n",
       "      <td>2.921223</td>\n",
       "      <td>...</td>\n",
       "      <td>2.469505</td>\n",
       "      <td>2.343656</td>\n",
       "      <td>2.459742</td>\n",
       "      <td>2.431637</td>\n",
       "      <td>2.478261</td>\n",
       "      <td>2.427048</td>\n",
       "      <td>2.420624</td>\n",
       "      <td>2.450511</td>\n",
       "      <td>2.337171</td>\n",
       "      <td>2.428869</td>\n",
       "    </tr>\n",
       "    <tr>\n",
       "      <th>1</th>\n",
       "      <td>18.772873</td>\n",
       "      <td>15.219233</td>\n",
       "      <td>11.204703</td>\n",
       "      <td>7.961453</td>\n",
       "      <td>6.202364</td>\n",
       "      <td>5.052090</td>\n",
       "      <td>4.268800</td>\n",
       "      <td>3.871251</td>\n",
       "      <td>3.596288</td>\n",
       "      <td>3.409217</td>\n",
       "      <td>...</td>\n",
       "      <td>2.875933</td>\n",
       "      <td>2.756217</td>\n",
       "      <td>2.723310</td>\n",
       "      <td>2.592697</td>\n",
       "      <td>2.747816</td>\n",
       "      <td>2.765074</td>\n",
       "      <td>2.720176</td>\n",
       "      <td>2.662562</td>\n",
       "      <td>2.543692</td>\n",
       "      <td>2.703503</td>\n",
       "    </tr>\n",
       "    <tr>\n",
       "      <th>2</th>\n",
       "      <td>16.658703</td>\n",
       "      <td>12.082880</td>\n",
       "      <td>8.023048</td>\n",
       "      <td>5.779724</td>\n",
       "      <td>4.564302</td>\n",
       "      <td>4.083430</td>\n",
       "      <td>3.812231</td>\n",
       "      <td>3.637496</td>\n",
       "      <td>3.489988</td>\n",
       "      <td>3.380426</td>\n",
       "      <td>...</td>\n",
       "      <td>2.731449</td>\n",
       "      <td>2.695995</td>\n",
       "      <td>2.666914</td>\n",
       "      <td>2.662329</td>\n",
       "      <td>2.659565</td>\n",
       "      <td>2.699238</td>\n",
       "      <td>2.657500</td>\n",
       "      <td>2.732796</td>\n",
       "      <td>2.673922</td>\n",
       "      <td>2.653453</td>\n",
       "    </tr>\n",
       "    <tr>\n",
       "      <th>3</th>\n",
       "      <td>21.136133</td>\n",
       "      <td>17.584032</td>\n",
       "      <td>13.489182</td>\n",
       "      <td>9.662160</td>\n",
       "      <td>7.377482</td>\n",
       "      <td>6.017179</td>\n",
       "      <td>5.081375</td>\n",
       "      <td>4.424088</td>\n",
       "      <td>4.076570</td>\n",
       "      <td>3.775612</td>\n",
       "      <td>...</td>\n",
       "      <td>2.113909</td>\n",
       "      <td>2.028008</td>\n",
       "      <td>2.057905</td>\n",
       "      <td>2.005133</td>\n",
       "      <td>2.068241</td>\n",
       "      <td>1.953272</td>\n",
       "      <td>1.987740</td>\n",
       "      <td>2.002249</td>\n",
       "      <td>2.047537</td>\n",
       "      <td>1.952852</td>\n",
       "    </tr>\n",
       "  </tbody>\n",
       "</table>\n",
       "<p>4 rows × 500 columns</p>\n",
       "</div>"
      ],
      "text/plain": [
       "         0          1          2         3         4         5         6    \\\n",
       "0  18.219635  14.309616   9.801969  6.258868  4.654944  3.777318  3.297206   \n",
       "1  18.772873  15.219233  11.204703  7.961453  6.202364  5.052090  4.268800   \n",
       "2  16.658703  12.082880   8.023048  5.779724  4.564302  4.083430  3.812231   \n",
       "3  21.136133  17.584032  13.489182  9.662160  7.377482  6.017179  5.081375   \n",
       "\n",
       "        7         8         9    ...       490       491       492       493  \\\n",
       "0  3.145150  2.977089  2.921223  ...  2.469505  2.343656  2.459742  2.431637   \n",
       "1  3.871251  3.596288  3.409217  ...  2.875933  2.756217  2.723310  2.592697   \n",
       "2  3.637496  3.489988  3.380426  ...  2.731449  2.695995  2.666914  2.662329   \n",
       "3  4.424088  4.076570  3.775612  ...  2.113909  2.028008  2.057905  2.005133   \n",
       "\n",
       "        494       495       496       497       498       499  \n",
       "0  2.478261  2.427048  2.420624  2.450511  2.337171  2.428869  \n",
       "1  2.747816  2.765074  2.720176  2.662562  2.543692  2.703503  \n",
       "2  2.659565  2.699238  2.657500  2.732796  2.673922  2.653453  \n",
       "3  2.068241  1.953272  1.987740  2.002249  2.047537  1.952852  \n",
       "\n",
       "[4 rows x 500 columns]"
      ]
     },
     "execution_count": 25,
     "metadata": {},
     "output_type": "execute_result"
    }
   ],
   "source": [
    "pd.DataFrame(all_history)"
   ]
  },
  {
   "cell_type": "code",
   "execution_count": 26,
   "metadata": {},
   "outputs": [
    {
     "data": {
      "text/plain": [
       "0      18.696836\n",
       "1      14.798940\n",
       "2      10.629725\n",
       "3       7.415551\n",
       "4       5.699773\n",
       "         ...    \n",
       "495     2.461158\n",
       "496     2.446510\n",
       "497     2.462030\n",
       "498     2.400580\n",
       "499     2.434669\n",
       "Length: 500, dtype: float64"
      ]
     },
     "execution_count": 26,
     "metadata": {},
     "output_type": "execute_result"
    }
   ],
   "source": [
    "### TOMAREMOS TODOS LOS ERRORES DE NUESTRAS 4 ITERACIONES DE MODELOS Y LOS PROMEDIAMOS:\n",
    "\n",
    "all_mea_avg=pd.DataFrame(all_history).mean(axis=0)\n",
    "all_mea_avg"
   ]
  },
  {
   "cell_type": "code",
   "execution_count": 29,
   "metadata": {},
   "outputs": [
    {
     "data": {
      "image/png": "[encoded data removed]",
      "text/plain": [
       "<Figure size 720x720 with 1 Axes>"
      ]
     },
     "metadata": {
      "needs_background": "light"
     },
     "output_type": "display_data"
    }
   ],
   "source": [
    "import matplotlib.pyplot as plt\n",
    "\n",
    "fig=plt.figure(figsize=(10,10))\n",
    "plt.plot(range(1,len(all_mea_avg[15:])+1),all_mea_avg[15:])\n",
    "plt.show()"
   ]
  },
  {
   "cell_type": "code",
   "execution_count": 30,
   "metadata": {},
   "outputs": [
    {
     "name": "stdout",
     "output_type": "stream",
     "text": [
      "4/4 [==============================] - 0s 3ms/step - loss: 13.8766 - mae: 2.8395\n"
     ]
    },
    {
     "data": {
      "text/plain": [
       "[13.876592636108398, 2.83954119682312]"
      ]
     },
     "execution_count": 30,
     "metadata": {},
     "output_type": "execute_result"
    }
   ],
   "source": [
    "model.evaluate(test_data,test_labels)"
   ]
  }
 ],
 "metadata": {
  "interpreter": {
   "hash": "07614c21755fca2e5437534253816bd89da6526460ae43611f5bb73c32569538"
  },
  "kernelspec": {
   "display_name": "Python 3.9.2 64-bit",
   "language": "python",
   "name": "python3"
  },
  "language_info": {
   "codemirror_mode": {
    "name": "ipython",
    "version": 3
   },
   "file_extension": ".py",
   "mimetype": "text/x-python",
   "name": "python",
   "nbconvert_exporter": "python",
   "pygments_lexer": "ipython3",
   "version": "3.9.2"
  },
  "orig_nbformat": 4
 },
 "nbformat": 4,
 "nbformat_minor": 2
}
