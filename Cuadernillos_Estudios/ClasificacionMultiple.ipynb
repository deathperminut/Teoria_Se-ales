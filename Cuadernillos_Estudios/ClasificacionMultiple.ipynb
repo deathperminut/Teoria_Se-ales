{
 "cells": [
  {
   "cell_type": "code",
   "execution_count": 1,
   "metadata": {},
   "outputs": [],
   "source": [
    "import numpy as np\n",
    "from keras import layers,models ## ESTRUCTURA BASICA PARA REDES\n",
    "from keras.datasets import reuters ## IMPORTAMOS LA INFORMACIÓN."
   ]
  },
  {
   "cell_type": "code",
   "execution_count": null,
   "metadata": {},
   "outputs": [],
   "source": [
    "(train_data,train_labels),(test_data,test_labels)=reuters"
   ]
  }
 ],
 "metadata": {
  "interpreter": {
   "hash": "07614c21755fca2e5437534253816bd89da6526460ae43611f5bb73c32569538"
  },
  "kernelspec": {
   "display_name": "Python 3.9.2 64-bit",
   "language": "python",
   "name": "python3"
  },
  "language_info": {
   "codemirror_mode": {
    "name": "ipython",
    "version": 3
   },
   "file_extension": ".py",
   "mimetype": "text/x-python",
   "name": "python",
   "nbconvert_exporter": "python",
   "pygments_lexer": "ipython3",
   "version": "3.9.2"
  },
  "orig_nbformat": 4
 },
 "nbformat": 4,
 "nbformat_minor": 2
}
